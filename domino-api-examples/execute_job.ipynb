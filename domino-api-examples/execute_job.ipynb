{
 "cells": [
  {
   "cell_type": "markdown",
   "id": "f6271b04-99cf-46db-9b2c-a80de52bccca",
   "metadata": {},
   "source": [
    "## Run a job from inside a Domino Workspace\n",
    "\n",
    "You need a token to invoke a job in Domino. \n",
    "- You can use a DOMINO_USER_API_KEY from the workspace environment variable\n",
    "- You can get a new access token each time you need to make a domino API call. The token is valid for 5 mins\n",
    "\n",
    "Find the docs for python based client [here](https://github.com/dominodatalab/python-domino) or endpoint based client [here](https://github.com/dominodatalab/python-domino)"
   ]
  },
  {
   "cell_type": "code",
   "execution_count": null,
   "id": "63464a88-d98f-4f01-83e6-1a4a4f017c77",
   "metadata": {},
   "outputs": [],
   "source": [
    "import os"
   ]
  },
  {
   "cell_type": "code",
   "execution_count": null,
   "id": "7ac32472-3565-45ff-9e84-5bddb54737b0",
   "metadata": {},
   "outputs": [],
   "source": [
    "import requests\n",
    "def get_access_token():\n",
    "    api_proxy=os.environ[\"DOMINO_API_PROXY\"]\n",
    "    x = requests.get(f\"{api_proxy}/access-token\")\n",
    "    if x.status_code==200:\n",
    "        return x.text\n",
    "    return ''"
   ]
  },
  {
   "cell_type": "code",
   "execution_count": null,
   "id": "0ac38334-c677-4932-ad27-d283fd581e2f",
   "metadata": {},
   "outputs": [],
   "source": [
    "##Using API Key\n",
    "from domino import Domino\n",
    "# By and large your commands will run against a single project,\n",
    "# so you must specify the full project name\n",
    "project_owner=os.environ['DOMINO_PROJECT_OWNER']\n",
    "project_name=os.environ['DOMINO_PROJECT_NAME']\n",
    "domino_1 = Domino(f\"{project_owner}/{project_name}\",api_key=os.environ['DOMINO_USER_API_KEY'])\n",
    "domino_2 = Domino(f\"{project_owner}/{project_name}\",auth_token=get_access_token())\n"
   ]
  },
  {
   "cell_type": "code",
   "execution_count": null,
   "id": "76576af0-c42f-4f25-9b08-f47d00fa2336",
   "metadata": {},
   "outputs": [],
   "source": [
    "##Using API KEY\n",
    "print(\"User Id \" +  domino_1.get_user_id(project_owner))\n",
    "##Using Access Token\n",
    "print(\"User Id \" +  domino_2.get_user_id(project_owner))\n"
   ]
  },
  {
   "cell_type": "markdown",
   "id": "4e808db3-4c97-4cfe-af12-4bc2c9e288eb",
   "metadata": {},
   "source": [
    "### A General Rule of Thumb\n",
    "1. Use the API Key when invoking the Domino API from outside Domino\n",
    "2. Use the Access Token when invoking the Domino API key from inside a Domino Workload"
   ]
  },
  {
   "cell_type": "markdown",
   "id": "f7753c7e-a3ca-4676-ad5a-a36942f95015",
   "metadata": {},
   "source": [
    "## Running Jobs using Domino API from inside a workspace\n",
    "\n",
    "1. You have to commit your code first. A job is a separate workload\n",
    "2. Do not pass sensitive information to Jobs. Instead update a user envirionment variable before starting a job and read it from inside a job"
   ]
  },
  {
   "cell_type": "code",
   "execution_count": null,
   "id": "1dffc03a-f657-4394-a349-278a12a1a8a5",
   "metadata": {},
   "outputs": [],
   "source": [
    "import os\n",
    "import requests\n",
    "import random\n",
    "\n",
    "## Passing Env variables\n",
    "api_host = os.environ['DOMINO_API_HOST']\n",
    "api_key=os.environ['DOMINO_USER_API_KEY']\n",
    "url = f\"{api_host}/account/setUserEnvironmentVariable\"\n",
    "api_key_headers = {'X-Domino-Api-Key':api_key}\n",
    "\n",
    "## This endpoint only works with an API Key\n",
    "request_headers=api_key_headers\n",
    "request_headers['Content-Type']='application/x-www-form-urlencoded'\n",
    "a_val = random.randint(0, 100)\n",
    "b_val = random.randint(0, 100)\n",
    "print(f\"a={a_val} and b={b_val}\")\n",
    "data={'a':str(a_val),'b':str(b_val)}\n",
    "data={'userEnvironmentVariableName':'a','userEnvironmentVariableValue':str(a_val)}\n",
    "r = requests.post(url,headers=request_headers,data=data)\n",
    "print(r.status_code)\n",
    "data={'userEnvironmentVariableName':'b','userEnvironmentVariableValue':str(b_val)}\n",
    "r = requests.post(url,headers=request_headers,data=data)\n",
    "print(r.status_code)\n",
    "\n",
    "# Go to your user environment variable section in the user settings and confirm that a and b have the same values as shown below"
   ]
  },
  {
   "cell_type": "code",
   "execution_count": null,
   "id": "2944a4c0-36c7-43e5-a1aa-ed7244035e4d",
   "metadata": {},
   "outputs": [],
   "source": [
    "## Now we start a job using API Key and go to the jobs manager"
   ]
  },
  {
   "cell_type": "code",
   "execution_count": null,
   "id": "1403aedb-76bf-4aba-8283-042dda28a90d",
   "metadata": {},
   "outputs": [],
   "source": [
    "print(domino_1.hardware_tiers_list())"
   ]
  },
  {
   "cell_type": "markdown",
   "id": "e225c8f7-bc35-4fba-9b24-484c1f47e397",
   "metadata": {},
   "source": [
    "### Defaults and overriding those\n",
    "\n",
    "By default the calls assume the projects default environment and hardware tier. You can change them with another [api call](https://github.com/dominodatalab/python-domino/blob/master/domino/domino.py#L314) to start jobs (which is low level)\n"
   ]
  },
  {
   "cell_type": "code",
   "execution_count": null,
   "id": "8c06be6d-9733-43ea-881b-456a00f8d1cd",
   "metadata": {},
   "outputs": [],
   "source": [
    "\n",
    "result = domino_1.runs_start_blocking( [\"test.py\"], title=\"Blocking Api key based execution\")\n",
    "#Once finished check the job results and it will echo the two environment variables you passed above"
   ]
  },
  {
   "cell_type": "code",
   "execution_count": null,
   "id": "dcdba892-860c-4cd8-b233-c71e4ef9fd2f",
   "metadata": {},
   "outputs": [],
   "source": [
    "## Now we start a job using access token and go to the jobs manager. In this case we will demonstrate starting a job in non-blocking mode"
   ]
  },
  {
   "cell_type": "code",
   "execution_count": null,
   "id": "99fac1ef-f2f8-43ae-a99b-e60ca6ec9e21",
   "metadata": {},
   "outputs": [],
   "source": [
    "domino_2 = Domino(f\"{project_owner}/{project_name}\",auth_token=get_access_token())\n",
    "result = domino_1.runs_start( [\"test.py\"], title=\"Api key based execution\")\n",
    "print(result)"
   ]
  },
  {
   "cell_type": "code",
   "execution_count": null,
   "id": "3d52dbea-f545-41d1-860a-a6d185e7bc94",
   "metadata": {},
   "outputs": [],
   "source": [
    "run_id=result['runId']\n",
    "#Remember to create a new instance of Domino everytime you make and api call when using access_token. The access_token is only valid for 5 mins\n",
    "#You do not need to do this if using an API KEY\n",
    "\n",
    "#You can manually check the status of the job\n",
    "domino_2 = Domino(f\"{project_owner}/{project_name}\",auth_token=get_access_token())\n",
    "domino_2.runs_status(run_id)"
   ]
  },
  {
   "cell_type": "code",
   "execution_count": null,
   "id": "2d5a27c1-1e97-487b-b5aa-72f4326d90f3",
   "metadata": {},
   "outputs": [],
   "source": []
  }
 ],
 "metadata": {
  "kernelspec": {
   "display_name": "Python 3",
   "language": "python",
   "name": "python3"
  },
  "language_info": {
   "codemirror_mode": {
    "name": "ipython",
    "version": 3
   },
   "file_extension": ".py",
   "mimetype": "text/x-python",
   "name": "python",
   "nbconvert_exporter": "python",
   "pygments_lexer": "ipython3",
   "version": "3.9.15"
  }
 },
 "nbformat": 4,
 "nbformat_minor": 5
}
