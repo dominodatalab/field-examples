{
 "cells": [
  {
   "cell_type": "markdown",
   "id": "f6271b04-99cf-46db-9b2c-a80de52bccca",
   "metadata": {},
   "source": [
    "## Run a job from inside a Domino Workspace\n",
    "\n",
    "You need a token to invoke a job in Domino. \n",
    "- You can use a DOMINO_USER_API_KEY from the workspace environment variable\n",
    "- You can get a new access token each time you need to make a domino API call. The token is valid for 5 mins\n",
    "\n",
    "Find the docs for python based client [here](https://github.com/dominodatalab/python-domino) or endpoint based client [here](https://github.com/dominodatalab/python-domino)"
   ]
  },
  {
   "cell_type": "code",
   "execution_count": 1,
   "id": "63464a88-d98f-4f01-83e6-1a4a4f017c77",
   "metadata": {},
   "outputs": [],
   "source": [
    "import os"
   ]
  },
  {
   "cell_type": "code",
   "execution_count": 2,
   "id": "7ac32472-3565-45ff-9e84-5bddb54737b0",
   "metadata": {},
   "outputs": [],
   "source": [
    "import requests\n",
    "def get_access_token():\n",
    "    api_proxy=os.environ[\"DOMINO_API_PROXY\"]\n",
    "    x = requests.get(f\"{api_proxy}/access-token\")\n",
    "    if x.status_code==200:\n",
    "        return x.text\n",
    "    return ''"
   ]
  },
  {
   "cell_type": "code",
   "execution_count": 3,
   "id": "0ac38334-c677-4932-ad27-d283fd581e2f",
   "metadata": {},
   "outputs": [],
   "source": [
    "##Using API Key\n",
    "from domino import Domino\n",
    "# By and large your commands will run against a single project,\n",
    "# so you must specify the full project name\n",
    "project_owner=os.environ['DOMINO_PROJECT_OWNER']\n",
    "project_name=os.environ['DOMINO_PROJECT_NAME']\n",
    "domino_1 = Domino(f\"{project_owner}/{project_name}\",api_key=os.environ['DOMINO_USER_API_KEY'])\n",
    "domino_2 = Domino(f\"{project_owner}/{project_name}\",auth_token=get_access_token())\n"
   ]
  },
  {
   "cell_type": "code",
   "execution_count": 4,
   "id": "76576af0-c42f-4f25-9b08-f47d00fa2336",
   "metadata": {},
   "outputs": [
    {
     "name": "stdout",
     "output_type": "stream",
     "text": [
      "User Id 6283a3966d4fd0362f8ba2a8\n",
      "User Id 6283a3966d4fd0362f8ba2a8\n"
     ]
    }
   ],
   "source": [
    "##Using API KEY\n",
    "print(\"User Id \" +  domino_1.get_user_id(project_owner))\n",
    "##Using Access Token\n",
    "print(\"User Id \" +  domino_2.get_user_id(project_owner))"
   ]
  },
  {
   "cell_type": "markdown",
   "id": "4e808db3-4c97-4cfe-af12-4bc2c9e288eb",
   "metadata": {},
   "source": [
    "### A General Rule of Thumb\n",
    "1. Use the API Key when invoking the Domino API from outside Domino\n",
    "2. Use the Access Token when invoking the Domino API key from inside a Domino Workload"
   ]
  },
  {
   "cell_type": "markdown",
   "id": "f7753c7e-a3ca-4676-ad5a-a36942f95015",
   "metadata": {},
   "source": [
    "## Running Jobs using Domino API from inside a workspace\n",
    "\n",
    "1. You have to commit your code first. A job is a separate workload\n",
    "2. Do not pass sensitive information to Jobs. Instead update a user envirionment variable before starting a job and read it from inside a job"
   ]
  },
  {
   "cell_type": "code",
   "execution_count": 5,
   "id": "1dffc03a-f657-4394-a349-278a12a1a8a5",
   "metadata": {},
   "outputs": [
    {
     "name": "stdout",
     "output_type": "stream",
     "text": [
      "a=24 and b=28\n",
      "200\n",
      "200\n"
     ]
    }
   ],
   "source": [
    "import os\n",
    "import requests\n",
    "import random\n",
    "\n",
    "## Passing Env variables\n",
    "api_host = os.environ['DOMINO_API_HOST']\n",
    "api_key=os.environ['DOMINO_USER_API_KEY']\n",
    "url = f\"{api_host}/account/setUserEnvironmentVariable\"\n",
    "api_key_headers = {'X-Domino-Api-Key':api_key}\n",
    "\n",
    "## This endpoint only works with an API Key\n",
    "request_headers=api_key_headers\n",
    "request_headers['Content-Type']='application/x-www-form-urlencoded'\n",
    "a_val = random.randint(0, 100)\n",
    "b_val = random.randint(0, 100)\n",
    "print(f\"a={a_val} and b={b_val}\")\n",
    "data={'a':str(a_val),'b':str(b_val)}\n",
    "data={'userEnvironmentVariableName':'a','userEnvironmentVariableValue':str(a_val)}\n",
    "r = requests.post(url,headers=request_headers,data=data)\n",
    "print(r.status_code)\n",
    "data={'userEnvironmentVariableName':'b','userEnvironmentVariableValue':str(b_val)}\n",
    "r = requests.post(url,headers=request_headers,data=data)\n",
    "print(r.status_code)\n",
    "\n",
    "# Go to your user environment variable section in the user settings and confirm that a and b have the same values as shown below"
   ]
  },
  {
   "cell_type": "code",
   "execution_count": 6,
   "id": "2944a4c0-36c7-43e5-a1aa-ed7244035e4d",
   "metadata": {},
   "outputs": [],
   "source": [
    "## Now we start a job using API Key and go to the jobs manager"
   ]
  },
  {
   "cell_type": "code",
   "execution_count": 7,
   "id": "1403aedb-76bf-4aba-8283-042dda28a90d",
   "metadata": {},
   "outputs": [
    {
     "name": "stdout",
     "output_type": "stream",
     "text": [
      "[{'hardwareTier': {'id': 'small-k8s', 'name': 'Small', 'cores': 1, 'coresLimit': 1, 'memory': 4, 'allowSharedMemoryToExceedDefault': False, 'clusterType': 'Kubernetes', 'gpuConfiguration': {'numberOfGpus': 0, 'gpuKey': 'nvidia.com/gpu'}, 'runMemoryLimit': {'memoryLimitMegabytes': 4096}, 'isDefault': True, 'centsPerMinute': 0.091, 'isFree': False, 'isAllowedDuringTrial': False, 'isVisible': True, 'isGlobal': True, 'isArchived': False, 'creationTime': '2023-01-25T19:38:06Z', 'updateTime': '2023-06-23T11:30:36.875Z', 'nodePool': 'default-karpenter', 'computeClusterRestrictions': {'restrictToSpark': False, 'restrictToRay': False, 'restrictToDask': False, 'restrictToMpi': False}, 'maxSimultaneousExecutions': None, 'overprovisioning': {'instances': 0, 'schedulingEnabled': False, 'daysOfWeek': ['MONDAY', 'TUESDAY', 'WEDNESDAY', 'THURSDAY', 'FRIDAY'], 'timezone': 'UTC', 'fromTime': '08:00:00', 'toTime': '19:00:00'}, 'podCustomization': {'additionalRequests': {}, 'additionalLimits': {}, 'additionalAnnotations': {}, 'additionalLabels': {}, 'hugepages': {}, 'capabilities': []}, 'dataPlaneId': None, 'isDataAnalystTier': False, 'tags': None, 'availabilityZones': [], 'metadata': {}}, 'capacity': {'currentNumberOfExecutors': 0, 'maximumNumberOfExecutors': 0, 'numberOfCurrentlyExecutingRuns': 0, 'numberOfQueuedRuns': 0, 'maximumConcurrentRuns': 0, 'availableCapacityWithoutLaunching': 0, 'maximumAvailableCapacity': 0, 'capacityLevel': 'CAN_EXECUTE_WITH_CURRENT_INSTANCES'}, 'dataPlane': {'id': '000000000000000000000000', 'name': 'Local', 'namespace': 'domino-compute', 'isLocal': True, 'configuration': {}, 'status': {'state': 'Healthy', 'message': '', 'version': '5.6.1-1', 'lastHeartbeatTimestamp': 1692632817673}, 'isHealthy': True, 'isArchived': False, 'isFileSyncDisabled': False}}, {'hardwareTier': {'id': 'large-k8s', 'name': 'Large', 'cores': 6, 'coresLimit': 6, 'memory': 27, 'allowSharedMemoryToExceedDefault': False, 'clusterType': 'Kubernetes', 'gpuConfiguration': {'numberOfGpus': 0, 'gpuKey': 'nvidia.com/gpu'}, 'runMemoryLimit': {'memoryLimitMegabytes': 27648}, 'isDefault': False, 'centsPerMinute': 0.64, 'isFree': False, 'isAllowedDuringTrial': False, 'isVisible': True, 'isGlobal': True, 'isArchived': False, 'creationTime': '2023-01-25T19:38:06Z', 'updateTime': '2023-06-23T11:46:25.738Z', 'nodePool': 'default-karpenter', 'computeClusterRestrictions': {'restrictToSpark': False, 'restrictToRay': False, 'restrictToDask': False, 'restrictToMpi': False}, 'maxSimultaneousExecutions': None, 'overprovisioning': {'instances': 0, 'schedulingEnabled': False, 'daysOfWeek': ['MONDAY', 'TUESDAY', 'WEDNESDAY', 'THURSDAY', 'FRIDAY'], 'timezone': 'UTC', 'fromTime': '08:00:00', 'toTime': '19:00:00'}, 'podCustomization': {'additionalRequests': {}, 'additionalLimits': {}, 'additionalAnnotations': {}, 'additionalLabels': {}, 'hugepages': {}, 'capabilities': []}, 'dataPlaneId': None, 'isDataAnalystTier': False, 'tags': None, 'availabilityZones': [], 'metadata': {}}, 'capacity': {'currentNumberOfExecutors': 0, 'maximumNumberOfExecutors': 0, 'numberOfCurrentlyExecutingRuns': 0, 'numberOfQueuedRuns': 0, 'maximumConcurrentRuns': 0, 'availableCapacityWithoutLaunching': 0, 'maximumAvailableCapacity': 0, 'capacityLevel': 'CAN_EXECUTE_WITH_CURRENT_INSTANCES'}, 'dataPlane': {'id': '000000000000000000000000', 'name': 'Local', 'namespace': 'domino-compute', 'isLocal': True, 'configuration': {}, 'status': {'state': 'Healthy', 'message': '', 'version': '5.6.1-1', 'lastHeartbeatTimestamp': 1692632817673}, 'isHealthy': True, 'isArchived': False, 'isFileSyncDisabled': False}}, {'hardwareTier': {'id': 'medium-k8s', 'name': 'Medium', 'cores': 4, 'coresLimit': 4, 'memory': 15, 'allowSharedMemoryToExceedDefault': False, 'clusterType': 'Kubernetes', 'gpuConfiguration': {'numberOfGpus': 0, 'gpuKey': 'nvidia.com/gpu'}, 'runMemoryLimit': {'memoryLimitMegabytes': 15360}, 'isDefault': False, 'centsPerMinute': 0.32, 'isFree': False, 'isAllowedDuringTrial': False, 'isVisible': True, 'isGlobal': True, 'isArchived': False, 'creationTime': '2023-01-25T19:38:06Z', 'updateTime': '2023-06-23T11:46:08.477Z', 'nodePool': 'default-karpenter', 'computeClusterRestrictions': {'restrictToSpark': False, 'restrictToRay': False, 'restrictToDask': False, 'restrictToMpi': False}, 'maxSimultaneousExecutions': None, 'overprovisioning': {'instances': 0, 'schedulingEnabled': False, 'daysOfWeek': ['MONDAY', 'TUESDAY', 'WEDNESDAY', 'THURSDAY', 'FRIDAY'], 'timezone': 'UTC', 'fromTime': '08:00:00', 'toTime': '19:00:00'}, 'podCustomization': {'additionalRequests': {}, 'additionalLimits': {}, 'additionalAnnotations': {}, 'additionalLabels': {}, 'hugepages': {}, 'capabilities': []}, 'dataPlaneId': None, 'isDataAnalystTier': False, 'tags': None, 'availabilityZones': [], 'metadata': {}}, 'capacity': {'currentNumberOfExecutors': 0, 'maximumNumberOfExecutors': 0, 'numberOfCurrentlyExecutingRuns': 0, 'numberOfQueuedRuns': 0, 'maximumConcurrentRuns': 0, 'availableCapacityWithoutLaunching': 0, 'maximumAvailableCapacity': 0, 'capacityLevel': 'CAN_EXECUTE_WITH_CURRENT_INSTANCES'}, 'dataPlane': {'id': '000000000000000000000000', 'name': 'Local', 'namespace': 'domino-compute', 'isLocal': True, 'configuration': {}, 'status': {'state': 'Healthy', 'message': '', 'version': '5.6.1-1', 'lastHeartbeatTimestamp': 1692632817673}, 'isHealthy': True, 'isArchived': False, 'isFileSyncDisabled': False}}, {'hardwareTier': {'id': 'medium-k8s-data-analyst', 'name': 'Medium-data-analyst', 'cores': 4, 'coresLimit': 4, 'memory': 15, 'allowSharedMemoryToExceedDefault': False, 'clusterType': 'Kubernetes', 'gpuConfiguration': {'numberOfGpus': 0, 'gpuKey': 'nvidia.com/gpu'}, 'runMemoryLimit': {'memoryLimitMegabytes': 15360}, 'isDefault': False, 'centsPerMinute': 0.32, 'isFree': False, 'isAllowedDuringTrial': False, 'isVisible': True, 'isGlobal': True, 'isArchived': False, 'creationTime': '2023-05-25T09:41:04.974Z', 'updateTime': '2023-05-25T09:41:28.947Z', 'nodePool': 'default-karpenter', 'computeClusterRestrictions': {'restrictToSpark': False, 'restrictToRay': False, 'restrictToDask': False, 'restrictToMpi': False}, 'maxSimultaneousExecutions': None, 'overprovisioning': {'instances': 0, 'schedulingEnabled': False, 'daysOfWeek': ['MONDAY', 'TUESDAY', 'WEDNESDAY', 'THURSDAY', 'FRIDAY'], 'timezone': 'UTC', 'fromTime': '08:00:00', 'toTime': '19:00:00'}, 'podCustomization': {'additionalRequests': {}, 'additionalLimits': {}, 'additionalAnnotations': {}, 'additionalLabels': {}, 'hugepages': {}, 'capabilities': []}, 'dataPlaneId': None, 'isDataAnalystTier': True, 'tags': None, 'availabilityZones': [], 'metadata': {}}, 'capacity': {'currentNumberOfExecutors': 0, 'maximumNumberOfExecutors': 0, 'numberOfCurrentlyExecutingRuns': 0, 'numberOfQueuedRuns': 0, 'maximumConcurrentRuns': 0, 'availableCapacityWithoutLaunching': 0, 'maximumAvailableCapacity': 0, 'capacityLevel': 'CAN_EXECUTE_WITH_CURRENT_INSTANCES'}, 'dataPlane': {'id': '000000000000000000000000', 'name': 'Local', 'namespace': 'domino-compute', 'isLocal': True, 'configuration': {}, 'status': {'state': 'Healthy', 'message': '', 'version': '5.6.1-1', 'lastHeartbeatTimestamp': 1692632817673}, 'isHealthy': True, 'isArchived': False, 'isFileSyncDisabled': False}}, {'hardwareTier': {'id': 'app-model-karpenter', 'name': 'app-model-karpenter', 'cores': 1, 'coresLimit': 1, 'memory': 4, 'allowSharedMemoryToExceedDefault': False, 'clusterType': 'Kubernetes', 'gpuConfiguration': {'numberOfGpus': 0, 'gpuKey': 'nvidia.com/gpu'}, 'runMemoryLimit': {'memoryLimitMegabytes': 4096}, 'isDefault': False, 'centsPerMinute': 0.091, 'isFree': False, 'isAllowedDuringTrial': False, 'isVisible': True, 'isGlobal': True, 'isArchived': False, 'creationTime': '2023-05-13T14:02:44.247Z', 'updateTime': '2023-05-13T14:02:44.247Z', 'nodePool': 'app-model-karpenter', 'computeClusterRestrictions': {'restrictToSpark': False, 'restrictToRay': False, 'restrictToDask': False, 'restrictToMpi': False}, 'maxSimultaneousExecutions': None, 'overprovisioning': {'instances': 0, 'schedulingEnabled': False, 'daysOfWeek': ['MONDAY', 'TUESDAY', 'WEDNESDAY', 'THURSDAY', 'FRIDAY'], 'timezone': 'UTC', 'fromTime': '08:00:00', 'toTime': '19:00:00'}, 'podCustomization': {'additionalRequests': {}, 'additionalLimits': {}, 'additionalAnnotations': {}, 'additionalLabels': {}, 'hugepages': {}, 'capabilities': []}, 'dataPlaneId': None, 'isDataAnalystTier': False, 'tags': None, 'availabilityZones': [], 'metadata': {}}, 'capacity': {'currentNumberOfExecutors': 0, 'maximumNumberOfExecutors': 0, 'numberOfCurrentlyExecutingRuns': 0, 'numberOfQueuedRuns': 0, 'maximumConcurrentRuns': 0, 'availableCapacityWithoutLaunching': 0, 'maximumAvailableCapacity': 0, 'capacityLevel': 'CAN_EXECUTE_WITH_CURRENT_INSTANCES'}, 'dataPlane': {'id': '000000000000000000000000', 'name': 'Local', 'namespace': 'domino-compute', 'isLocal': True, 'configuration': {}, 'status': {'state': 'Healthy', 'message': '', 'version': '5.6.1-1', 'lastHeartbeatTimestamp': 1692632817673}, 'isHealthy': True, 'isArchived': False, 'isFileSyncDisabled': False}}, {'hardwareTier': {'id': 'small-k8s-autoscaler', 'name': 'Small-autoscaler', 'cores': 1, 'coresLimit': 1, 'memory': 4, 'allowSharedMemoryToExceedDefault': False, 'clusterType': 'Kubernetes', 'gpuConfiguration': {'numberOfGpus': 0, 'gpuKey': 'nvidia.com/gpu'}, 'runMemoryLimit': {'memoryLimitMegabytes': 4096}, 'isDefault': False, 'centsPerMinute': 0.091, 'isFree': False, 'isAllowedDuringTrial': False, 'isVisible': True, 'isGlobal': True, 'isArchived': False, 'creationTime': '2023-06-06T15:00:25.322Z', 'updateTime': '2023-06-06T15:00:25.322Z', 'nodePool': 'default', 'computeClusterRestrictions': {'restrictToSpark': False, 'restrictToRay': False, 'restrictToDask': False, 'restrictToMpi': False}, 'maxSimultaneousExecutions': None, 'overprovisioning': {'instances': 0, 'schedulingEnabled': False, 'daysOfWeek': ['MONDAY', 'TUESDAY', 'WEDNESDAY', 'THURSDAY', 'FRIDAY'], 'timezone': 'UTC', 'fromTime': '08:00:00', 'toTime': '19:00:00'}, 'podCustomization': {'additionalRequests': {}, 'additionalLimits': {}, 'additionalAnnotations': {}, 'additionalLabels': {}, 'hugepages': {}, 'capabilities': []}, 'dataPlaneId': None, 'isDataAnalystTier': False, 'tags': None, 'availabilityZones': ['us-west-2a', 'us-west-2b', 'us-west-2c'], 'metadata': {}}, 'capacity': {'currentNumberOfExecutors': 0, 'maximumNumberOfExecutors': 0, 'numberOfCurrentlyExecutingRuns': 0, 'numberOfQueuedRuns': 0, 'maximumConcurrentRuns': 0, 'availableCapacityWithoutLaunching': 0, 'maximumAvailableCapacity': 0, 'capacityLevel': 'CAN_EXECUTE_WITH_CURRENT_INSTANCES'}, 'dataPlane': {'id': '000000000000000000000000', 'name': 'Local', 'namespace': 'domino-compute', 'isLocal': True, 'configuration': {}, 'status': {'state': 'Healthy', 'message': '', 'version': '5.6.1-1', 'lastHeartbeatTimestamp': 1692632817673}, 'isHealthy': True, 'isArchived': False, 'isFileSyncDisabled': False}}, {'hardwareTier': {'id': 'small-k8s-spot', 'name': 'Small-spot', 'cores': 1, 'coresLimit': 1, 'memory': 4, 'allowSharedMemoryToExceedDefault': False, 'clusterType': 'Kubernetes', 'gpuConfiguration': {'numberOfGpus': 0, 'gpuKey': 'nvidia.com/gpu'}, 'runMemoryLimit': {'memoryLimitMegabytes': 4096}, 'isDefault': False, 'centsPerMinute': 0.091, 'isFree': False, 'isAllowedDuringTrial': False, 'isVisible': True, 'isGlobal': True, 'isArchived': False, 'creationTime': '2023-05-15T12:35:57.629Z', 'updateTime': '2023-05-15T12:35:57.629Z', 'nodePool': 'spot-karpenter', 'computeClusterRestrictions': {'restrictToSpark': False, 'restrictToRay': False, 'restrictToDask': False, 'restrictToMpi': False}, 'maxSimultaneousExecutions': None, 'overprovisioning': {'instances': 0, 'schedulingEnabled': False, 'daysOfWeek': ['MONDAY', 'TUESDAY', 'WEDNESDAY', 'THURSDAY', 'FRIDAY'], 'timezone': 'UTC', 'fromTime': '08:00:00', 'toTime': '19:00:00'}, 'podCustomization': {'additionalRequests': {}, 'additionalLimits': {}, 'additionalAnnotations': {}, 'additionalLabels': {}, 'hugepages': {}, 'capabilities': []}, 'dataPlaneId': None, 'isDataAnalystTier': False, 'tags': None, 'availabilityZones': [], 'metadata': {}}, 'capacity': {'currentNumberOfExecutors': 0, 'maximumNumberOfExecutors': 0, 'numberOfCurrentlyExecutingRuns': 0, 'numberOfQueuedRuns': 0, 'maximumConcurrentRuns': 0, 'availableCapacityWithoutLaunching': 0, 'maximumAvailableCapacity': 0, 'capacityLevel': 'CAN_EXECUTE_WITH_CURRENT_INSTANCES'}, 'dataPlane': {'id': '000000000000000000000000', 'name': 'Local', 'namespace': 'domino-compute', 'isLocal': True, 'configuration': {}, 'status': {'state': 'Healthy', 'message': '', 'version': '5.6.1-1', 'lastHeartbeatTimestamp': 1692632817673}, 'isHealthy': True, 'isArchived': False, 'isFileSyncDisabled': False}}, {'hardwareTier': {'id': 'gpu-p3-2xlarge', 'name': 'nvidia-high-p3-2xlarge', 'cores': 5, 'coresLimit': 5, 'memory': 48, 'allowSharedMemoryToExceedDefault': False, 'clusterType': 'Kubernetes', 'gpuConfiguration': {'numberOfGpus': 1, 'gpuKey': 'nvidia.com/gpu'}, 'runMemoryLimit': {'memoryLimitMegabytes': 49152}, 'isDefault': False, 'centsPerMinute': 0.051, 'isFree': False, 'isAllowedDuringTrial': False, 'isVisible': True, 'isGlobal': True, 'isArchived': False, 'creationTime': '2023-01-27T15:54:18.551Z', 'updateTime': '2023-06-23T13:21:26.974Z', 'nodePool': 'gpu-p3-karpenter', 'computeClusterRestrictions': {'restrictToSpark': False, 'restrictToRay': False, 'restrictToDask': False, 'restrictToMpi': False}, 'maxSimultaneousExecutions': None, 'overprovisioning': {'instances': 0, 'schedulingEnabled': False, 'daysOfWeek': ['MONDAY', 'TUESDAY', 'WEDNESDAY', 'THURSDAY', 'FRIDAY'], 'timezone': 'UTC', 'fromTime': '08:00:00', 'toTime': '19:00:00'}, 'podCustomization': {'additionalRequests': {}, 'additionalLimits': {}, 'additionalAnnotations': {}, 'additionalLabels': {}, 'hugepages': {}, 'capabilities': []}, 'dataPlaneId': None, 'isDataAnalystTier': False, 'tags': None, 'availabilityZones': [], 'metadata': {}}, 'capacity': {'currentNumberOfExecutors': 0, 'maximumNumberOfExecutors': 0, 'numberOfCurrentlyExecutingRuns': 0, 'numberOfQueuedRuns': 0, 'maximumConcurrentRuns': 0, 'availableCapacityWithoutLaunching': 0, 'maximumAvailableCapacity': 0, 'capacityLevel': 'CAN_EXECUTE_WITH_CURRENT_INSTANCES'}, 'dataPlane': {'id': '000000000000000000000000', 'name': 'Local', 'namespace': 'domino-compute', 'isLocal': True, 'configuration': {}, 'status': {'state': 'Healthy', 'message': '', 'version': '5.6.1-1', 'lastHeartbeatTimestamp': 1692632817673}, 'isHealthy': True, 'isArchived': False, 'isFileSyncDisabled': False}}, {'hardwareTier': {'id': 'gpu-small-k8s', 'name': 'nvidia-low-g4dn-xlarge', 'cores': 2, 'coresLimit': 2, 'memory': 10, 'allowSharedMemoryToExceedDefault': False, 'clusterType': 'Kubernetes', 'gpuConfiguration': {'numberOfGpus': 1, 'gpuKey': 'nvidia.com/gpu'}, 'runMemoryLimit': {'memoryLimitMegabytes': 10240}, 'isDefault': False, 'centsPerMinute': 0.88, 'isFree': False, 'isAllowedDuringTrial': False, 'isVisible': True, 'isGlobal': True, 'isArchived': False, 'creationTime': '2023-01-25T19:38:07Z', 'updateTime': '2023-06-23T11:58:53.467Z', 'nodePool': 'default-gpu-karpenter', 'computeClusterRestrictions': {'restrictToSpark': False, 'restrictToRay': False, 'restrictToDask': False, 'restrictToMpi': False}, 'maxSimultaneousExecutions': None, 'overprovisioning': {'instances': 0, 'schedulingEnabled': False, 'daysOfWeek': ['MONDAY', 'TUESDAY', 'WEDNESDAY', 'THURSDAY', 'FRIDAY'], 'timezone': 'UTC', 'fromTime': '08:00:00', 'toTime': '19:00:00'}, 'podCustomization': {'additionalRequests': {}, 'additionalLimits': {}, 'additionalAnnotations': {}, 'additionalLabels': {}, 'hugepages': {}, 'capabilities': []}, 'dataPlaneId': None, 'isDataAnalystTier': False, 'tags': None, 'availabilityZones': [], 'metadata': {}}, 'capacity': {'currentNumberOfExecutors': 0, 'maximumNumberOfExecutors': 0, 'numberOfCurrentlyExecutingRuns': 0, 'numberOfQueuedRuns': 0, 'maximumConcurrentRuns': 0, 'availableCapacityWithoutLaunching': 0, 'maximumAvailableCapacity': 0, 'capacityLevel': 'CAN_EXECUTE_WITH_CURRENT_INSTANCES'}, 'dataPlane': {'id': '000000000000000000000000', 'name': 'Local', 'namespace': 'domino-compute', 'isLocal': True, 'configuration': {}, 'status': {'state': 'Healthy', 'message': '', 'version': '5.6.1-1', 'lastHeartbeatTimestamp': 1692632817673}, 'isHealthy': True, 'isArchived': False, 'isFileSyncDisabled': False}}, {'hardwareTier': {'id': 'gpu-large-karpenter', 'name': 'gpu-large-karpenter', 'cores': 38, 'coresLimit': 38, 'memory': 172, 'allowSharedMemoryToExceedDefault': True, 'clusterType': 'Kubernetes', 'gpuConfiguration': {'numberOfGpus': 4, 'gpuKey': 'nvidia.com/gpu'}, 'runMemoryLimit': {'memoryLimitMegabytes': 176128}, 'isDefault': False, 'centsPerMinute': 0, 'isFree': False, 'isAllowedDuringTrial': False, 'isVisible': True, 'isGlobal': True, 'isArchived': False, 'creationTime': '2023-07-11T12:46:23.109Z', 'updateTime': '2023-07-20T22:34:54.309Z', 'nodePool': 'g4dn-gpu-karpenter', 'computeClusterRestrictions': {'restrictToSpark': False, 'restrictToRay': False, 'restrictToDask': False, 'restrictToMpi': False}, 'maxSimultaneousExecutions': None, 'overprovisioning': {'instances': 0, 'schedulingEnabled': False, 'daysOfWeek': ['MONDAY', 'TUESDAY', 'WEDNESDAY', 'THURSDAY', 'FRIDAY'], 'timezone': 'UTC', 'fromTime': '08:00:00', 'toTime': '19:00:00'}, 'podCustomization': {'additionalRequests': {}, 'additionalLimits': {}, 'additionalAnnotations': {}, 'additionalLabels': {}, 'hugepages': {}, 'capabilities': []}, 'dataPlaneId': None, 'isDataAnalystTier': False, 'tags': None, 'availabilityZones': [], 'metadata': {}}, 'capacity': {'currentNumberOfExecutors': 0, 'maximumNumberOfExecutors': 0, 'numberOfCurrentlyExecutingRuns': 0, 'numberOfQueuedRuns': 0, 'maximumConcurrentRuns': 0, 'availableCapacityWithoutLaunching': 0, 'maximumAvailableCapacity': 0, 'capacityLevel': 'REQUIRES_LAUNCHING_INSTANCE'}, 'dataPlane': {'id': '000000000000000000000000', 'name': 'Local', 'namespace': 'domino-compute', 'isLocal': True, 'configuration': {}, 'status': {'state': 'Healthy', 'message': '', 'version': '5.6.1-1', 'lastHeartbeatTimestamp': 1692632817673}, 'isHealthy': True, 'isArchived': False, 'isFileSyncDisabled': False}}, {'hardwareTier': {'id': 'gpu-medium-karpenter', 'name': 'gpu-medium-karpenter', 'cores': 14, 'coresLimit': 14, 'memory': 60, 'allowSharedMemoryToExceedDefault': True, 'clusterType': 'Kubernetes', 'gpuConfiguration': {'numberOfGpus': 1, 'gpuKey': 'nvidia.com/gpu'}, 'runMemoryLimit': {'memoryLimitMegabytes': 61440}, 'isDefault': False, 'centsPerMinute': 0, 'isFree': False, 'isAllowedDuringTrial': False, 'isVisible': True, 'isGlobal': True, 'isArchived': False, 'creationTime': '2023-07-11T12:45:21.782Z', 'updateTime': '2023-07-20T22:34:42.305Z', 'nodePool': 'g4dn-gpu-karpenter', 'computeClusterRestrictions': {'restrictToSpark': False, 'restrictToRay': False, 'restrictToDask': False, 'restrictToMpi': False}, 'maxSimultaneousExecutions': None, 'overprovisioning': {'instances': 0, 'schedulingEnabled': False, 'daysOfWeek': ['MONDAY', 'TUESDAY', 'WEDNESDAY', 'THURSDAY', 'FRIDAY'], 'timezone': 'UTC', 'fromTime': '08:00:00', 'toTime': '19:00:00'}, 'podCustomization': {'additionalRequests': {}, 'additionalLimits': {}, 'additionalAnnotations': {}, 'additionalLabels': {}, 'hugepages': {}, 'capabilities': []}, 'dataPlaneId': None, 'isDataAnalystTier': False, 'tags': None, 'availabilityZones': [], 'metadata': {}}, 'capacity': {'currentNumberOfExecutors': 0, 'maximumNumberOfExecutors': 0, 'numberOfCurrentlyExecutingRuns': 0, 'numberOfQueuedRuns': 0, 'maximumConcurrentRuns': 0, 'availableCapacityWithoutLaunching': 0, 'maximumAvailableCapacity': 0, 'capacityLevel': 'REQUIRES_LAUNCHING_INSTANCE'}, 'dataPlane': {'id': '000000000000000000000000', 'name': 'Local', 'namespace': 'domino-compute', 'isLocal': True, 'configuration': {}, 'status': {'state': 'Healthy', 'message': '', 'version': '5.6.1-1', 'lastHeartbeatTimestamp': 1692632817673}, 'isHealthy': True, 'isArchived': False, 'isFileSyncDisabled': False}}]\n"
     ]
    }
   ],
   "source": [
    "print(domino_1.hardware_tiers_list())"
   ]
  },
  {
   "cell_type": "markdown",
   "id": "e225c8f7-bc35-4fba-9b24-484c1f47e397",
   "metadata": {},
   "source": [
    "### Defaults and overriding those\n",
    "\n",
    "By default the calls assume the projects default environment and hardware tier. You can change them with another [api call](https://github.com/dominodatalab/python-domino/blob/master/domino/domino.py#L314) to start jobs (which is low level)\n"
   ]
  },
  {
   "cell_type": "code",
   "execution_count": 9,
   "id": "8c06be6d-9733-43ea-881b-456a00f8d1cd",
   "metadata": {},
   "outputs": [],
   "source": [
    "\n",
    "result = domino_1.runs_start_blocking( [\"test.py\"], title=\"Blocking Api key based execution\")\n",
    "#Once finished check the job results and it will echo the two environment variables you passed above"
   ]
  },
  {
   "cell_type": "code",
   "execution_count": null,
   "id": "dcdba892-860c-4cd8-b233-c71e4ef9fd2f",
   "metadata": {},
   "outputs": [],
   "source": [
    "## Now we start a job using access token and go to the jobs manager. In this case we will demonstrate starting a job in non-blocking mode"
   ]
  },
  {
   "cell_type": "code",
   "execution_count": null,
   "id": "99fac1ef-f2f8-43ae-a99b-e60ca6ec9e21",
   "metadata": {},
   "outputs": [],
   "source": [
    "domino_2 = Domino(f\"{project_owner}/{project_name}\",auth_token=get_access_token())\n",
    "result = domino_1.runs_start( [\"test.py\"], title=\"Api key based execution\")\n",
    "print(result)"
   ]
  },
  {
   "cell_type": "code",
   "execution_count": null,
   "id": "3d52dbea-f545-41d1-860a-a6d185e7bc94",
   "metadata": {},
   "outputs": [],
   "source": [
    "run_id=result['runId']\n",
    "#Remember to create a new instance of Domino everytime you make and api call when using access_token. The access_token is only valid for 5 mins\n",
    "#You do not need to do this if using an API KEY\n",
    "\n",
    "#You can manually check the status of the job\n",
    "domino_2 = Domino(f\"{project_owner}/{project_name}\",auth_token=get_access_token())\n",
    "domino_2.runs_status(run_id)"
   ]
  },
  {
   "cell_type": "code",
   "execution_count": null,
   "id": "2d5a27c1-1e97-487b-b5aa-72f4326d90f3",
   "metadata": {},
   "outputs": [],
   "source": []
  }
 ],
 "metadata": {
  "kernelspec": {
   "display_name": "Python 3",
   "language": "python",
   "name": "python3"
  },
  "language_info": {
   "codemirror_mode": {
    "name": "ipython",
    "version": 3
   },
   "file_extension": ".py",
   "mimetype": "text/x-python",
   "name": "python",
   "nbconvert_exporter": "python",
   "pygments_lexer": "ipython3",
   "version": "3.9.15"
  }
 },
 "nbformat": 4,
 "nbformat_minor": 5
}
