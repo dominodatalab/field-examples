{
 "cells": [
  {
   "cell_type": "code",
   "execution_count": 1,
   "id": "cee2935b-a77b-4424-a547-701cd0644ac0",
   "metadata": {},
   "outputs": [
    {
     "name": "stdout",
     "output_type": "stream",
     "text": [
      "Requirement already satisfied: pyyaml in /opt/conda/lib/python3.8/site-packages (6.0)\n"
     ]
    }
   ],
   "source": [
    "!pip install pyyaml"
   ]
  },
  {
   "cell_type": "markdown",
   "id": "63a7a3c3-6af9-45f1-9ef6-c482fe039bbb",
   "metadata": {
    "tags": []
   },
   "source": [
    "### Import client libraries"
   ]
  },
  {
   "cell_type": "code",
   "execution_count": 2,
   "id": "d6383638-6216-4926-b253-b628e9393055",
   "metadata": {},
   "outputs": [],
   "source": [
    "import client.domsed_client as dc"
   ]
  },
  {
   "cell_type": "markdown",
   "id": "843d53a3-0b9c-4c15-a3fa-7023e72d0ab3",
   "metadata": {},
   "source": [
    "#### Listing mutations"
   ]
  },
  {
   "cell_type": "code",
   "execution_count": 3,
   "id": "af8a0b6f-3965-41f4-b8e1-28250944a4b7",
   "metadata": {},
   "outputs": [
    {
     "name": "stdout",
     "output_type": "stream",
     "text": [
      "Listing Mutations\n",
      "\n",
      "\tlabel\n",
      "\tmlflow-config-proxy-istio-exception\n",
      "\tmlflow-connect-config\n",
      "\tmlflow-efs-volume-wks\n",
      "\tmodify-hw-tier-massive-hw-tier\n",
      "\trestrict-hw-tier\n",
      "\trestrict-hw-tier-by-user-project\n"
     ]
    }
   ],
   "source": [
    "dc.list()"
   ]
  },
  {
   "cell_type": "markdown",
   "id": "774c2b67-eb4b-421d-b48a-7015c8835419",
   "metadata": {},
   "source": [
    "#### Create Mutation"
   ]
  },
  {
   "cell_type": "code",
   "execution_count": 5,
   "id": "01c5a304-c11c-43cf-8fab-67d974bb80de",
   "metadata": {},
   "outputs": [
    {
     "name": "stderr",
     "output_type": "stream",
     "text": [
      "2022-08-05 20:33:37,055 - domsed_client - WARNING - Publishing Mutation To Domsed\n"
     ]
    },
    {
     "name": "stdout",
     "output_type": "stream",
     "text": [
      "Applied Mutation\n",
      "{\"apiVersion\":\"apps.dominodatalab.com/v1alpha1\",\"kind\":\"Mutation\",\"metadata\":{\"creationTimestamp\":\"2022-08-05T20:33:37Z\",\"generation\":1,\"managedFields\":[{\"apiVersion\":\"apps.dominodatalab.com/v1alpha1\",\"fieldsType\":\"FieldsV1\",\"fieldsV1\":{\"f:rules\":{}},\"manager\":\"OpenAPI-Generator\",\"operation\":\"Update\",\"time\":\"2022-08-05T20:33:37Z\"}],\"name\":\"label\",\"namespace\":\"domino-platform\",\"resourceVersion\":\"19197080\",\"uid\":\"7fb92e5d-fc36-4d19-8a0d-45b082d6720f\"},\"rules\":[{\"matchBuilds\":false,\"modifyLabel\":{\"key\":\"foo.com/bar\"}}]}\n",
      "\n",
      "Listing Mutations\n",
      "\n",
      "\tlabel\n",
      "\tmlflow-config-proxy-istio-exception\n",
      "\tmlflow-connect-config\n",
      "\tmlflow-efs-volume-wks\n",
      "\tmodify-hw-tier-massive-hw-tier\n",
      "\trestrict-hw-tier\n",
      "\trestrict-hw-tier-by-user-project\n"
     ]
    }
   ],
   "source": [
    "dc.apply_file('./mutations/label.yaml')\n",
    "dc.list()"
   ]
  },
  {
   "cell_type": "markdown",
   "id": "bcff5a73-2702-4309-ada1-b27ec6d90155",
   "metadata": {},
   "source": [
    "#### Get Mutation"
   ]
  },
  {
   "cell_type": "code",
   "execution_count": 7,
   "id": "39a28986-3773-4b67-b5d6-2e4e14373f6f",
   "metadata": {},
   "outputs": [
    {
     "name": "stderr",
     "output_type": "stream",
     "text": [
      "2022-08-05 19:50:21,307 - domsed_client - WARNING - Get Mutationlabel\n"
     ]
    },
    {
     "name": "stdout",
     "output_type": "stream",
     "text": [
      "Printing Mutation: label\n",
      "\n",
      "{\"apiVersion\":\"apps.dominodatalab.com/v1alpha1\",\"kind\":\"Mutation\",\"metadata\":{\"creationTimestamp\":\"2022-08-05T19:50:20Z\",\"generation\":1,\"managedFields\":[{\"apiVersion\":\"apps.dominodatalab.com/v1alpha1\",\"fieldsType\":\"FieldsV1\",\"fieldsV1\":{\"f:rules\":{}},\"manager\":\"OpenAPI-Generator\",\"operation\":\"Update\",\"time\":\"2022-08-05T19:50:20Z\"}],\"name\":\"label\",\"namespace\":\"domino-platform\",\"resourceVersion\":\"19182129\",\"uid\":\"69874d04-9720-4fa5-b86f-fff069126165\"},\"rules\":[{\"matchBuilds\":false,\"modifyLabel\":{\"key\":\"foo.com/bar\"}}]}\n",
      "\n"
     ]
    }
   ],
   "source": [
    "dc.get('label')"
   ]
  },
  {
   "cell_type": "markdown",
   "id": "12e9ffcf-3a06-4f1a-8085-97ab363ef609",
   "metadata": {},
   "source": [
    "#### Delete Mutation"
   ]
  },
  {
   "cell_type": "code",
   "execution_count": null,
   "id": "6b01fcdb-6851-4f4f-b987-44426cc3abba",
   "metadata": {},
   "outputs": [],
   "source": [
    "dc.delete('label')"
   ]
  },
  {
   "cell_type": "code",
   "execution_count": null,
   "id": "c04c19d8-6cfd-4e3e-8054-ee76038ba052",
   "metadata": {},
   "outputs": [],
   "source": []
  },
  {
   "cell_type": "code",
   "execution_count": null,
   "id": "c974bbdc-2830-4542-aa01-9f24cb5a9ccb",
   "metadata": {},
   "outputs": [],
   "source": []
  }
 ],
 "metadata": {
  "kernelspec": {
   "display_name": "Python 3 (ipykernel)",
   "language": "python",
   "name": "python3"
  },
  "language_info": {
   "codemirror_mode": {
    "name": "ipython",
    "version": 3
   },
   "file_extension": ".py",
   "mimetype": "text/x-python",
   "name": "python",
   "nbconvert_exporter": "python",
   "pygments_lexer": "ipython3",
   "version": "3.8.12"
  }
 },
 "nbformat": 4,
 "nbformat_minor": 5
}
