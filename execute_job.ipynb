{
 "cells": [
  {
   "cell_type": "markdown",
   "id": "f6271b04-99cf-46db-9b2c-a80de52bccca",
   "metadata": {},
   "source": [
    "## Run a job from inside a Domino Workspace\n",
    "\n",
    "You need a token to invoke a job in Domino. \n",
    "- You can use a DOMINO_USER_API_KEY from the workspace environment variable\n",
    "- You can get a new access token each time you need to make a domino API call. The token is valid for 5 mins\n",
    "\n",
    "Find the docs for python based client [here](https://github.com/dominodatalab/python-domino) or endpoint based client [here](https://github.com/dominodatalab/python-domino)"
   ]
  },
  {
   "cell_type": "code",
   "execution_count": 2,
   "id": "63464a88-d98f-4f01-83e6-1a4a4f017c77",
   "metadata": {},
   "outputs": [],
   "source": [
    "import os"
   ]
  },
  {
   "cell_type": "code",
   "execution_count": 3,
   "id": "7ac32472-3565-45ff-9e84-5bddb54737b0",
   "metadata": {},
   "outputs": [],
   "source": [
    "import requests\n",
    "def get_access_token():\n",
    "    api_proxy=os.environ[\"DOMINO_API_PROXY\"]\n",
    "    x = requests.get(f\"{api_proxy}/access-token\")\n",
    "    if x.status_code==200:\n",
    "        return x.text\n",
    "    return ''"
   ]
  },
  {
   "cell_type": "code",
   "execution_count": 11,
   "id": "0ac38334-c677-4932-ad27-d283fd581e2f",
   "metadata": {},
   "outputs": [],
   "source": [
    "##Using API Key\n",
    "from domino import Domino\n",
    "# By and large your commands will run against a single project,\n",
    "# so you must specify the full project name\n",
    "project_owner=os.environ['DOMINO_PROJECT_OWNER']\n",
    "project_name=os.environ['DOMINO_PROJECT_NAME']\n",
    "domino_1 = Domino(f\"{project_owner}/{project_name}\",api_key=os.environ['DOMINO_USER_API_KEY'])\n",
    "domino_2 = Domino(f\"{project_owner}/{project_name}\",auth_token=get_access_token())\n"
   ]
  },
  {
   "cell_type": "code",
   "execution_count": 12,
   "id": "76576af0-c42f-4f25-9b08-f47d00fa2336",
   "metadata": {},
   "outputs": [
    {
     "name": "stdout",
     "output_type": "stream",
     "text": [
      "User Id 6283a3966d4fd0362f8ba2a8\n",
      "User Id 6283a3966d4fd0362f8ba2a8\n"
     ]
    }
   ],
   "source": [
    "##Using API KEY\n",
    "print(\"User Id \" +  domino_1.get_user_id(project_owner))\n",
    "##Using Access Token\n",
    "print(\"User Id \" +  domino_2.get_user_id(project_owner))"
   ]
  },
  {
   "cell_type": "markdown",
   "id": "4e808db3-4c97-4cfe-af12-4bc2c9e288eb",
   "metadata": {},
   "source": [
    "### A General Rule of Thumb\n",
    "1. Use the API Key when invoking the Domino API from outside Domino\n",
    "2. Use the Access Token when invoking the Domino API key from inside a Domino Workload"
   ]
  },
  {
   "cell_type": "markdown",
   "id": "f7753c7e-a3ca-4676-ad5a-a36942f95015",
   "metadata": {},
   "source": [
    "## Running Jobs using Domino API from inside a workspace\n",
    "\n",
    "1. You have to commit your code first. A job is a separate workload\n",
    "2. Do not pass sensitive information to Jobs. Instead update a user envirionment variable before starting a job and read it from inside a job"
   ]
  },
  {
   "cell_type": "code",
   "execution_count": 10,
   "id": "1dffc03a-f657-4394-a349-278a12a1a8a5",
   "metadata": {},
   "outputs": [
    {
     "name": "stdout",
     "output_type": "stream",
     "text": [
      "{'X-Domino-Api-Key': 'c328482b1221c123a9b65eeecee6c6adbc1c17707d3a2a3d066ec9b85a3dc0a4'}\n",
      "a=5 and b=48\n",
      "200\n",
      "200\n"
     ]
    }
   ],
   "source": [
    "import os\n",
    "import requests\n",
    "import random\n",
    "\n",
    "## Passing Env variables\n",
    "api_host = os.environ['DOMINO_API_HOST']\n",
    "api_key=os.environ['DOMINO_USER_API_KEY']\n",
    "url = f\"{api_host}/account/setUserEnvironmentVariable\"\n",
    "api_key_headers = {'X-Domino-Api-Key':api_key}\n",
    "\n",
    "## This endpoint only works with an API Key\n",
    "request_headers=api_key_headers\n",
    "print(request_headers)\n",
    "request_headers['Content-Type']='application/x-www-form-urlencoded'\n",
    "a_val = random.randint(0, 100)\n",
    "b_val = random.randint(0, 100)\n",
    "print(f\"a={a_val} and b={b_val}\")\n",
    "data={'a':str(a_val),'b':str(b_val)}\n",
    "data={'userEnvironmentVariableName':'a','userEnvironmentVariableValue':str(a_val)}\n",
    "r = requests.post(url,headers=request_headers,data=data)\n",
    "print(r.status_code)\n",
    "data={'userEnvironmentVariableName':'b','userEnvironmentVariableValue':str(b_val)}\n",
    "r = requests.post(url,headers=request_headers,data=data)\n",
    "print(r.status_code)\n",
    "\n",
    "# Go to your user environment variable section in the user settings and confirm that a and b have the same values as shown below"
   ]
  },
  {
   "cell_type": "code",
   "execution_count": null,
   "id": "2944a4c0-36c7-43e5-a1aa-ed7244035e4d",
   "metadata": {},
   "outputs": [],
   "source": [
    "## Now we start a job using API Key and go to the jobs manager"
   ]
  },
  {
   "cell_type": "code",
   "execution_count": null,
   "id": "1403aedb-76bf-4aba-8283-042dda28a90d",
   "metadata": {},
   "outputs": [],
   "source": [
    "print(domino_1.hardware_tiers_list())"
   ]
  },
  {
   "cell_type": "code",
   "execution_count": 13,
   "id": "8c06be6d-9733-43ea-881b-456a00f8d1cd",
   "metadata": {},
   "outputs": [
    {
     "ename": "RunFailedException",
     "evalue": "Remote run 64e385ab1bf69a02f5d20727 finished but did not succeed.",
     "output_type": "error",
     "traceback": [
      "\u001b[0;31m---------------------------------------------------------------------------\u001b[0m",
      "\u001b[0;31mRunFailedException\u001b[0m                        Traceback (most recent call last)",
      "Cell \u001b[0;32mIn [13], line 1\u001b[0m\n\u001b[0;32m----> 1\u001b[0m result \u001b[38;5;241m=\u001b[39m \u001b[43mdomino_1\u001b[49m\u001b[38;5;241;43m.\u001b[39;49m\u001b[43mruns_start_blocking\u001b[49m\u001b[43m(\u001b[49m\u001b[43m \u001b[49m\u001b[43m[\u001b[49m\u001b[38;5;124;43m\"\u001b[39;49m\u001b[38;5;124;43mtest.py\u001b[39;49m\u001b[38;5;124;43m\"\u001b[39;49m\u001b[43m]\u001b[49m\u001b[43m,\u001b[49m\u001b[43m \u001b[49m\u001b[43mtitle\u001b[49m\u001b[38;5;241;43m=\u001b[39;49m\u001b[38;5;124;43m\"\u001b[39;49m\u001b[38;5;124;43mBlocking Api key based execution\u001b[39;49m\u001b[38;5;124;43m\"\u001b[39;49m\u001b[43m)\u001b[49m\n",
      "File \u001b[0;32m/opt/conda/lib/python3.9/site-packages/domino/domino.py:241\u001b[0m, in \u001b[0;36mDomino.runs_start_blocking\u001b[0;34m(self, command, isDirect, commitId, title, tier, publishApiEndpoint, poll_freq, max_poll_time, retry_count)\u001b[0m\n\u001b[1;32m    239\u001b[0m         \u001b[38;5;28;01mif\u001b[39;00m run_info[\u001b[38;5;124m\"\u001b[39m\u001b[38;5;124mstatus\u001b[39m\u001b[38;5;124m\"\u001b[39m] \u001b[38;5;241m!=\u001b[39m \u001b[38;5;124m\"\u001b[39m\u001b[38;5;124mSucceeded\u001b[39m\u001b[38;5;124m\"\u001b[39m:\n\u001b[1;32m    240\u001b[0m             \u001b[38;5;28mself\u001b[39m\u001b[38;5;241m.\u001b[39mprocess_log(stdout_msg)\n\u001b[0;32m--> 241\u001b[0m             \u001b[38;5;28;01mraise\u001b[39;00m exceptions\u001b[38;5;241m.\u001b[39mRunFailedException(\n\u001b[1;32m    242\u001b[0m                 \u001b[38;5;124mf\u001b[39m\u001b[38;5;124m\"\u001b[39m\u001b[38;5;124mRemote run \u001b[39m\u001b[38;5;132;01m{\u001b[39;00mrun_id\u001b[38;5;132;01m}\u001b[39;00m\u001b[38;5;124m finished but did not succeed.\u001b[39m\u001b[38;5;124m\"\u001b[39m\n\u001b[1;32m    243\u001b[0m             )\n\u001b[1;32m    245\u001b[0m         \u001b[38;5;28;01mbreak\u001b[39;00m\n\u001b[1;32m    247\u001b[0m \u001b[38;5;28;01mreturn\u001b[39;00m run_response\n",
      "\u001b[0;31mRunFailedException\u001b[0m: Remote run 64e385ab1bf69a02f5d20727 finished but did not succeed."
     ]
    }
   ],
   "source": [
    "result = domino_1.runs_start_blocking( [\"test.py\"], title=\"Blocking Api key based execution\")"
   ]
  },
  {
   "cell_type": "code",
   "execution_count": null,
   "id": "dcdba892-860c-4cd8-b233-c71e4ef9fd2f",
   "metadata": {},
   "outputs": [],
   "source": [
    "## Now we start a job using access token and go to the jobs manager. In this case we will demonstrate starting a job in non-blocking mode"
   ]
  },
  {
   "cell_type": "code",
   "execution_count": 9,
   "id": "99fac1ef-f2f8-43ae-a99b-e60ca6ec9e21",
   "metadata": {},
   "outputs": [
    {
     "name": "stdout",
     "output_type": "stream",
     "text": [
      "{'runId': '64e385134684282e776f1ac0', 'message': 'Run for project sameer_wadkar/FieldExamples started. You can view it here:\\nhttps://prod-field.cs.domino.tech/jobs/sameer_wadkar/FieldExamples/64e385134684282e776f1ac0\\n'}\n"
     ]
    }
   ],
   "source": [
    "domino_2 = Domino(f\"{project_owner}/{project_name}\",auth_token=get_access_token())\n",
    "result = domino_1.runs_start( [\"test.py\"], title=\"Api key based execution\")\n",
    "print(result)"
   ]
  },
  {
   "cell_type": "code",
   "execution_count": null,
   "id": "3d52dbea-f545-41d1-860a-a6d185e7bc94",
   "metadata": {},
   "outputs": [],
   "source": [
    "run_id=result['runId']\n",
    "#Remember to create a new instance of Domino everytime you make and api call when using access_token. The access_token is only valid for 5 mins\n",
    "#You do not need to do this if using an API KEY\n",
    "\n",
    "#You can manually check the status of the job\n",
    "domino_2 = Domino(f\"{project_owner}/{project_name}\",auth_token=get_access_token())\n",
    "domino_2.runs_status(run_id)"
   ]
  },
  {
   "cell_type": "code",
   "execution_count": null,
   "id": "2d5a27c1-1e97-487b-b5aa-72f4326d90f3",
   "metadata": {},
   "outputs": [],
   "source": []
  }
 ],
 "metadata": {
  "kernelspec": {
   "display_name": "Python 3",
   "language": "python",
   "name": "python3"
  },
  "language_info": {
   "codemirror_mode": {
    "name": "ipython",
    "version": 3
   },
   "file_extension": ".py",
   "mimetype": "text/x-python",
   "name": "python",
   "nbconvert_exporter": "python",
   "pygments_lexer": "ipython3",
   "version": "3.9.15"
  }
 },
 "nbformat": 4,
 "nbformat_minor": 5
}
