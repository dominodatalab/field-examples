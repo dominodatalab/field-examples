{
 "cells": [
  {
   "cell_type": "markdown",
   "id": "f6271b04-99cf-46db-9b2c-a80de52bccca",
   "metadata": {},
   "source": [
    "## Run a job from inside a Domino Workspace\n",
    "\n",
    "You need a token to invoke a job in Domino. \n",
    "- You can use a DOMINO_USER_API_KEY from the workspace environment variable\n",
    "- You can get a new access token each time you need to make a domino API call. The token is valid for 5 mins\n",
    "\n",
    "Find the docs for python based client [here](https://github.com/dominodatalab/python-domino) or endpoint based client [here](https://github.com/dominodatalab/python-domino)"
   ]
  },
  {
   "cell_type": "code",
   "execution_count": 1,
   "id": "63464a88-d98f-4f01-83e6-1a4a4f017c77",
   "metadata": {},
   "outputs": [],
   "source": [
    "import os"
   ]
  },
  {
   "cell_type": "code",
   "execution_count": 14,
   "id": "7ac32472-3565-45ff-9e84-5bddb54737b0",
   "metadata": {},
   "outputs": [],
   "source": [
    "import requests\n",
    "def get_access_token():\n",
    "    api_proxy=os.environ[\"DOMINO_API_PROXY\"]\n",
    "    x = requests.get(f\"{api_proxy}/access-token\")\n",
    "    if x.status_code==200:\n",
    "        return x.text\n",
    "    return ''"
   ]
  },
  {
   "cell_type": "code",
   "execution_count": 17,
   "id": "0ac38334-c677-4932-ad27-d283fd581e2f",
   "metadata": {},
   "outputs": [],
   "source": [
    "##Using API Key\n",
    "from domino import Domino\n",
    "# By and large your commands will run against a single project,\n",
    "# so you must specify the full project name\n",
    "project_owner=os.environ['DOMINO_PROJECT_OWNER']\n",
    "project_name=os.environ['DOMINO_PROJECT_NAME']\n",
    "domino_1 = Domino(f\"{project_owner}/{project_name}\",api_key=os.environ['DOMINO_USER_API_KEY'])\n",
    "domino_2 = Domino(f\"{project_owner}/{project_name}\",auth_token=get_access_token())\n"
   ]
  },
  {
   "cell_type": "code",
   "execution_count": 18,
   "id": "76576af0-c42f-4f25-9b08-f47d00fa2336",
   "metadata": {},
   "outputs": [
    {
     "name": "stdout",
     "output_type": "stream",
     "text": [
      "User Id 6283a3966d4fd0362f8ba2a8\n",
      "User Id 6283a3966d4fd0362f8ba2a8\n"
     ]
    }
   ],
   "source": [
    "##Using API KEY\n",
    "print(\"User Id \" +  domino_1.get_user_id(project_owner))\n",
    "##Using Access Token\n",
    "print(\"User Id \" +  domino_2.get_user_id(project_owner))"
   ]
  },
  {
   "cell_type": "markdown",
   "id": "4e808db3-4c97-4cfe-af12-4bc2c9e288eb",
   "metadata": {},
   "source": [
    "### A General Rule of Thumb\n",
    "1. Use the API Key when invoking the Domino API from outside Domino\n",
    "2. Use the Access Token when invoking the Domino API key from inside a Domino Workload"
   ]
  },
  {
   "cell_type": "markdown",
   "id": "f7753c7e-a3ca-4676-ad5a-a36942f95015",
   "metadata": {},
   "source": [
    "## Running Jobs using Domino API from inside a workspace\n",
    "\n",
    "1. You have to commit your code first. A job is a separate workload\n",
    "2. Do not pass sensitive information to Jobs. Instead update a user envirionment variable before starting a job and read it from inside a job"
   ]
  },
  {
   "cell_type": "code",
   "execution_count": null,
   "id": "1dffc03a-f657-4394-a349-278a12a1a8a5",
   "metadata": {},
   "outputs": [],
   "source": []
  }
 ],
 "metadata": {
  "kernelspec": {
   "display_name": "Python 3",
   "language": "python",
   "name": "python3"
  },
  "language_info": {
   "codemirror_mode": {
    "name": "ipython",
    "version": 3
   },
   "file_extension": ".py",
   "mimetype": "text/x-python",
   "name": "python",
   "nbconvert_exporter": "python",
   "pygments_lexer": "ipython3",
   "version": "3.9.15"
  }
 },
 "nbformat": 4,
 "nbformat_minor": 5
}
